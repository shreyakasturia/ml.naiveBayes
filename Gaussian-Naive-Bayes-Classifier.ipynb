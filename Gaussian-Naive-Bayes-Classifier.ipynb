{
 "cells": [
  {
   "cell_type": "markdown",
   "metadata": {
    "collapsed": true
   },
   "source": [
    "# Gaussian-Naive-Bayes Classifier\n",
    "## Definition\n",
    "Naive Bayes can be extended for real-valued features. If the values in our dataset have a continuous pattern, it may be chosen Gaussian Naive Bayes classification. There are other types of funtions but Gaussian (or normal distribution) is the simplest one because you only need to compute the mean and standard deviation from your training dataset. \n",
    "\n",
    "<img src=\"gaussian-distribution.png\"  style=\"height:50%;width:70%\" />\n",
    "\n",
    "The formula of the Gaussian distribution (above) is: \n",
    "\n",
    "\\begin{equation}\n",
    "y = \\frac{1}{\\sigma \\sqrt{2\\pi}} e^-\\frac{\\left(x-\\mu \\right)}{2\\sigma^2}\n",
    "\\end{equation}\n",
    "\n",
    "* $\\mu$ is mean which is the center of the curve.\n",
    "* $\\sigma$ is stardard deviation which describes how the data spreads out.\n",
    "\n",
    "This formula is called as well as **the probability density function**. "
   ]
  },
  {
   "cell_type": "code",
   "execution_count": 16,
   "metadata": {},
   "outputs": [
    {
     "data": {
      "text/html": [
       "<div>\n",
       "<style>\n",
       "    .dataframe thead tr:only-child th {\n",
       "        text-align: right;\n",
       "    }\n",
       "\n",
       "    .dataframe thead th {\n",
       "        text-align: left;\n",
       "    }\n",
       "\n",
       "    .dataframe tbody tr th {\n",
       "        vertical-align: top;\n",
       "    }\n",
       "</style>\n",
       "<table border=\"1\" class=\"dataframe\">\n",
       "  <thead>\n",
       "    <tr style=\"text-align: right;\">\n",
       "      <th></th>\n",
       "      <th>sl</th>\n",
       "      <th>sw</th>\n",
       "      <th>pl</th>\n",
       "      <th>pw</th>\n",
       "      <th>c</th>\n",
       "    </tr>\n",
       "  </thead>\n",
       "  <tbody>\n",
       "    <tr>\n",
       "      <th>count</th>\n",
       "      <td>136.000000</td>\n",
       "      <td>136.000000</td>\n",
       "      <td>136.000000</td>\n",
       "      <td>136.000000</td>\n",
       "      <td>136.000000</td>\n",
       "    </tr>\n",
       "    <tr>\n",
       "      <th>mean</th>\n",
       "      <td>5.858824</td>\n",
       "      <td>3.036765</td>\n",
       "      <td>3.770588</td>\n",
       "      <td>1.198529</td>\n",
       "      <td>2.007353</td>\n",
       "    </tr>\n",
       "    <tr>\n",
       "      <th>std</th>\n",
       "      <td>0.841821</td>\n",
       "      <td>0.431845</td>\n",
       "      <td>1.770211</td>\n",
       "      <td>0.761479</td>\n",
       "      <td>0.820987</td>\n",
       "    </tr>\n",
       "    <tr>\n",
       "      <th>min</th>\n",
       "      <td>4.300000</td>\n",
       "      <td>2.000000</td>\n",
       "      <td>1.100000</td>\n",
       "      <td>0.100000</td>\n",
       "      <td>1.000000</td>\n",
       "    </tr>\n",
       "    <tr>\n",
       "      <th>25%</th>\n",
       "      <td>5.100000</td>\n",
       "      <td>2.800000</td>\n",
       "      <td>1.575000</td>\n",
       "      <td>0.300000</td>\n",
       "      <td>1.000000</td>\n",
       "    </tr>\n",
       "    <tr>\n",
       "      <th>50%</th>\n",
       "      <td>5.800000</td>\n",
       "      <td>3.000000</td>\n",
       "      <td>4.350000</td>\n",
       "      <td>1.300000</td>\n",
       "      <td>2.000000</td>\n",
       "    </tr>\n",
       "    <tr>\n",
       "      <th>75%</th>\n",
       "      <td>6.400000</td>\n",
       "      <td>3.300000</td>\n",
       "      <td>5.100000</td>\n",
       "      <td>1.800000</td>\n",
       "      <td>3.000000</td>\n",
       "    </tr>\n",
       "    <tr>\n",
       "      <th>max</th>\n",
       "      <td>7.900000</td>\n",
       "      <td>4.400000</td>\n",
       "      <td>6.900000</td>\n",
       "      <td>2.500000</td>\n",
       "      <td>3.000000</td>\n",
       "    </tr>\n",
       "  </tbody>\n",
       "</table>\n",
       "</div>"
      ],
      "text/plain": [
       "               sl          sw          pl          pw           c\n",
       "count  136.000000  136.000000  136.000000  136.000000  136.000000\n",
       "mean     5.858824    3.036765    3.770588    1.198529    2.007353\n",
       "std      0.841821    0.431845    1.770211    0.761479    0.820987\n",
       "min      4.300000    2.000000    1.100000    0.100000    1.000000\n",
       "25%      5.100000    2.800000    1.575000    0.300000    1.000000\n",
       "50%      5.800000    3.000000    4.350000    1.300000    2.000000\n",
       "75%      6.400000    3.300000    5.100000    1.800000    3.000000\n",
       "max      7.900000    4.400000    6.900000    2.500000    3.000000"
      ]
     },
     "execution_count": 16,
     "metadata": {},
     "output_type": "execute_result"
    }
   ],
   "source": [
    "# libraries\n",
    "import pandas as pd\n",
    "import numpy as np\n",
    "\n",
    "dataset = pd.read_csv('iris.txt',sep=' ')\n",
    "\n",
    "# if dataset.index % test_indis == 0 \n",
    "# then it is going to be used as test dataset\n",
    "# they will not be attended into the train dataset\n",
    "test_indis = 11\n",
    "\n",
    "test_dataset = dataset[dataset.index % test_indis == 0]\n",
    "train_dataset = dataset[dataset.index % test_indis != 0]\n",
    "\n",
    "# total count of sample space\n",
    "total = len(train_dataset)\n",
    "\n",
    "train_dataset.describe()"
   ]
  },
  {
   "cell_type": "code",
   "execution_count": 25,
   "metadata": {},
   "outputs": [
    {
     "data": {
      "image/png": "[encoded data removed]",
      "text/plain": [
       "<matplotlib.figure.Figure at 0x1e94f117438>"
      ]
     },
     "metadata": {},
     "output_type": "display_data"
    }
   ],
   "source": [
    "# libraries\n",
    "import matplotlib.pylab as plt\n",
    "import matplotlib.mlab as mlab\n",
    "import math\n",
    "\n",
    "def pdf(x, mean, std):\n",
    "    return (np.exp(-np.power(x - mean, 2.) / (2 * np.power(std, 2.)))) / (std * np.power(2 * math.pi, 1/2))\n",
    "# end of def pdf\n",
    "\n",
    "# loop in columns of dataset\n",
    "for clm in train_dataset.columns:\n",
    "    mean, std = train_dataset[clm].mean(), train_dataset[clm].std()\n",
    "    gaussian = pdf(train_dataset[clm], mean, std)\n",
    "    plt.plot(train_dataset[clm], gaussian, \".\")\n",
    "# end of for loop\n",
    "\n",
    "# plotting\n",
    "plt.title(\"Normal distributions of train dataset\")\n",
    "plt.legend()\n",
    "plt.show()"
   ]
  },
  {
   "cell_type": "code",
   "execution_count": 48,
   "metadata": {
    "scrolled": true
   },
   "outputs": [
    {
     "data": {
      "text/html": [
       "<div>\n",
       "<style>\n",
       "    .dataframe thead tr:only-child th {\n",
       "        text-align: right;\n",
       "    }\n",
       "\n",
       "    .dataframe thead th {\n",
       "        text-align: left;\n",
       "    }\n",
       "\n",
       "    .dataframe tbody tr th {\n",
       "        vertical-align: top;\n",
       "    }\n",
       "</style>\n",
       "<table border=\"1\" class=\"dataframe\">\n",
       "  <thead>\n",
       "    <tr style=\"text-align: right;\">\n",
       "      <th></th>\n",
       "      <th>sl</th>\n",
       "      <th>sw</th>\n",
       "      <th>pl</th>\n",
       "      <th>pw</th>\n",
       "      <th>c</th>\n",
       "    </tr>\n",
       "    <tr>\n",
       "      <th>c</th>\n",
       "      <th></th>\n",
       "      <th></th>\n",
       "      <th></th>\n",
       "      <th></th>\n",
       "      <th></th>\n",
       "    </tr>\n",
       "  </thead>\n",
       "  <tbody>\n",
       "    <tr>\n",
       "      <th>1</th>\n",
       "      <td>0.267857</td>\n",
       "      <td>0.357143</td>\n",
       "      <td>0.173913</td>\n",
       "      <td>0.230769</td>\n",
       "      <td>0.333333</td>\n",
       "    </tr>\n",
       "    <tr>\n",
       "      <th>2</th>\n",
       "      <td>0.375000</td>\n",
       "      <td>0.333333</td>\n",
       "      <td>0.391304</td>\n",
       "      <td>0.307692</td>\n",
       "      <td>0.333333</td>\n",
       "    </tr>\n",
       "    <tr>\n",
       "      <th>3</th>\n",
       "      <td>0.357143</td>\n",
       "      <td>0.309524</td>\n",
       "      <td>0.434783</td>\n",
       "      <td>0.461538</td>\n",
       "      <td>0.333333</td>\n",
       "    </tr>\n",
       "  </tbody>\n",
       "</table>\n",
       "</div>"
      ],
      "text/plain": [
       "         sl        sw        pl        pw         c\n",
       "c                                                  \n",
       "1  0.267857  0.357143  0.173913  0.230769  0.333333\n",
       "2  0.375000  0.333333  0.391304  0.307692  0.333333\n",
       "3  0.357143  0.309524  0.434783  0.461538  0.333333"
      ]
     },
     "execution_count": 48,
     "metadata": {},
     "output_type": "execute_result"
    }
   ],
   "source": [
    "train_dataset_1 = train_dataset.loc[[idx for idx, item in train_dataset.iterrows() if item.c == 1]]\n",
    "train_dataset_2 = train_dataset.loc[[idx for idx, item in train_dataset.iterrows() if item.c == 2]]\n",
    "train_dataset_3 = train_dataset.loc[[idx for idx, item in train_dataset.iterrows() if item.c == 3]]\n",
    "\n",
    "#df = df.groupby('domain')['ID'].nunique()\n",
    "t1 = train_dataset.groupby(\"c\").nunique()\n",
    "p1 = t1 / np.sum(t1, axis=0)\n",
    "p1\n",
    "#p_c = {idx: item for idx, item in train_dataset[\"c\"].iteritems() if item != \"sl\"}\n",
    "#p_c"
   ]
  },
  {
   "cell_type": "code",
   "execution_count": 185,
   "metadata": {},
   "outputs": [
    {
     "name": "stdout",
     "output_type": "stream",
     "text": [
      "[5.004444444444444]\n",
      "[3.3866666666666667]\n",
      "[1.4644444444444447]\n",
      "[0.2444444444444444]\n",
      "[5.944444444444445]\n",
      "[2.7533333333333334]\n",
      "[4.24]\n",
      "[1.3155555555555556]\n",
      "[6.61086956521739]\n",
      "[2.9717391304347816]\n",
      "[5.567391304347825]\n",
      "[2.0173913043478255]\n"
     ]
    }
   ],
   "source": [
    "classes = train_dataset[\"c\"].unique()\n",
    "columns = np.array([item for item in train_dataset.columns if item != \"c\"])\n",
    "\n",
    "means = np.zeros([len(columns), len(classes)])\n",
    "means\n",
    "for cls in classes:\n",
    "    sample_dataset = train_dataset.loc[[idx for idx, item in train_dataset.iterrows() if item.c == cls]]\n",
    "    for clm in columns:\n",
    "        [item.mean() for idx, item in sample_dataset.iteritems() if idx == clm]\n",
    "\n",
    "#for idx, item in train_dataset.iteritems():\n",
    "    "
   ]
  },
  {
   "cell_type": "code",
   "execution_count": 165,
   "metadata": {},
   "outputs": [
    {
     "data": {
      "text/plain": [
       "{'c': 1.0,\n",
       " 'pl': 1.4644444444444447,\n",
       " 'pw': 0.2444444444444444,\n",
       " 'sw': 3.3866666666666667}"
      ]
     },
     "execution_count": 165,
     "metadata": {},
     "output_type": "execute_result"
    }
   ],
   "source": [
    "arr = np.array([item for idx, item in train_dataset.iterrows() if item.c == 1])\n",
    "sample_dataset = train_dataset.loc[[idx for idx, item in train_dataset.iterrows() if item.c == 1]]\n",
    "means = {idx: item.mean() for idx, item in sample_dataset.iteritems() if idx != \"sl\"}\n",
    "means"
   ]
  },
  {
   "cell_type": "code",
   "execution_count": 20,
   "metadata": {},
   "outputs": [
    {
     "name": "stdout",
     "output_type": "stream",
     "text": [
      "test_item.c: 1.0\n",
      "means: {'sl': 5.004444444444444, 'sw': 3.3866666666666667, 'pl': 1.4644444444444447, 'pw': 0.2444444444444444, 'c': 1.0}\n",
      "stds: {'sl': 0.3573612607811187, 'sw': 0.37755192297941553, 'pl': 0.15397100605981215, 'pw': 0.10986676963808062, 'c': 0.0}\n",
      "test_item.c: 1.0\n",
      "means: {'sl': 5.004444444444444, 'sw': 3.3866666666666667, 'pl': 1.4644444444444447, 'pw': 0.2444444444444444, 'c': 1.0}\n",
      "stds: {'sl': 0.3573612607811187, 'sw': 0.37755192297941553, 'pl': 0.15397100605981215, 'pw': 0.10986676963808062, 'c': 0.0}\n",
      "test_item.c: 1.0\n",
      "means: {'sl': 5.004444444444444, 'sw': 3.3866666666666667, 'pl': 1.4644444444444447, 'pw': 0.2444444444444444, 'c': 1.0}\n",
      "stds: {'sl': 0.3573612607811187, 'sw': 0.37755192297941553, 'pl': 0.15397100605981215, 'pw': 0.10986676963808062, 'c': 0.0}\n",
      "test_item.c: 1.0\n",
      "means: {'sl': 5.004444444444444, 'sw': 3.3866666666666667, 'pl': 1.4644444444444447, 'pw': 0.2444444444444444, 'c': 1.0}\n",
      "stds: {'sl': 0.3573612607811187, 'sw': 0.37755192297941553, 'pl': 0.15397100605981215, 'pw': 0.10986676963808062, 'c': 0.0}\n",
      "test_item.c: 1.0\n",
      "means: {'sl': 5.004444444444444, 'sw': 3.3866666666666667, 'pl': 1.4644444444444447, 'pw': 0.2444444444444444, 'c': 1.0}\n",
      "stds: {'sl': 0.3573612607811187, 'sw': 0.37755192297941553, 'pl': 0.15397100605981215, 'pw': 0.10986676963808062, 'c': 0.0}\n",
      "test_item.c: 2.0\n",
      "means: {'sl': 5.004444444444444, 'sw': 3.3866666666666667, 'pl': 1.4644444444444447, 'pw': 0.2444444444444444, 'c': 1.0}\n",
      "stds: {'sl': 0.3573612607811187, 'sw': 0.37755192297941553, 'pl': 0.15397100605981215, 'pw': 0.10986676963808062, 'c': 0.0}\n",
      "test_item.c: 2.0\n",
      "means: {'sl': 5.004444444444444, 'sw': 3.3866666666666667, 'pl': 1.4644444444444447, 'pw': 0.2444444444444444, 'c': 1.0}\n",
      "stds: {'sl': 0.3573612607811187, 'sw': 0.37755192297941553, 'pl': 0.15397100605981215, 'pw': 0.10986676963808062, 'c': 0.0}\n",
      "test_item.c: 2.0\n",
      "means: {'sl': 5.004444444444444, 'sw': 3.3866666666666667, 'pl': 1.4644444444444447, 'pw': 0.2444444444444444, 'c': 1.0}\n",
      "stds: {'sl': 0.3573612607811187, 'sw': 0.37755192297941553, 'pl': 0.15397100605981215, 'pw': 0.10986676963808062, 'c': 0.0}\n",
      "test_item.c: 2.0\n",
      "means: {'sl': 5.004444444444444, 'sw': 3.3866666666666667, 'pl': 1.4644444444444447, 'pw': 0.2444444444444444, 'c': 1.0}\n",
      "stds: {'sl': 0.3573612607811187, 'sw': 0.37755192297941553, 'pl': 0.15397100605981215, 'pw': 0.10986676963808062, 'c': 0.0}\n",
      "test_item.c: 2.0\n",
      "means: {'sl': 5.004444444444444, 'sw': 3.3866666666666667, 'pl': 1.4644444444444447, 'pw': 0.2444444444444444, 'c': 1.0}\n",
      "stds: {'sl': 0.3573612607811187, 'sw': 0.37755192297941553, 'pl': 0.15397100605981215, 'pw': 0.10986676963808062, 'c': 0.0}\n",
      "test_item.c: 3.0\n",
      "means: {'sl': 5.004444444444444, 'sw': 3.3866666666666667, 'pl': 1.4644444444444447, 'pw': 0.2444444444444444, 'c': 1.0}\n",
      "stds: {'sl': 0.3573612607811187, 'sw': 0.37755192297941553, 'pl': 0.15397100605981215, 'pw': 0.10986676963808062, 'c': 0.0}\n",
      "test_item.c: 3.0\n",
      "means: {'sl': 5.004444444444444, 'sw': 3.3866666666666667, 'pl': 1.4644444444444447, 'pw': 0.2444444444444444, 'c': 1.0}\n",
      "stds: {'sl': 0.3573612607811187, 'sw': 0.37755192297941553, 'pl': 0.15397100605981215, 'pw': 0.10986676963808062, 'c': 0.0}\n",
      "test_item.c: 3.0\n",
      "means: {'sl': 5.004444444444444, 'sw': 3.3866666666666667, 'pl': 1.4644444444444447, 'pw': 0.2444444444444444, 'c': 1.0}\n",
      "stds: {'sl': 0.3573612607811187, 'sw': 0.37755192297941553, 'pl': 0.15397100605981215, 'pw': 0.10986676963808062, 'c': 0.0}\n",
      "test_item.c: 3.0\n",
      "means: {'sl': 5.004444444444444, 'sw': 3.3866666666666667, 'pl': 1.4644444444444447, 'pw': 0.2444444444444444, 'c': 1.0}\n",
      "stds: {'sl': 0.3573612607811187, 'sw': 0.37755192297941553, 'pl': 0.15397100605981215, 'pw': 0.10986676963808062, 'c': 0.0}\n"
     ]
    }
   ],
   "source": [
    "import math\n",
    "\n",
    "cls = \"c\"\n",
    "\n",
    "p_c = {idx: item / total for idx, item in train_dataset[cls].value_counts().iteritems()}\n",
    "\n",
    "# go-out = P(pdf(weather)|class=go-out) * P(pdf(car)|class=go-out) * P(class=go-out)\n",
    "\n",
    "possibilities = {}\n",
    "for test_idx, test_item in test_dataset.iterrows():\n",
    "    print(\"test_item.c:\",test_item.c)\n",
    "    if test_idx != \"c\":\n",
    "        sample_dataset = train_dataset.loc[[idx for idx, item in train_dataset.iterrows() if item.c == 1]]\n",
    "        means = {idx: item.mean() for idx, item in sample_dataset.iteritems() if idx != test_idx}\n",
    "        stds = {idx: item.std() for idx, item in sample_dataset.iteritems() if idx != test_idx}\n",
    "        print(\"means:\", means)\n",
    "        print(\"stds:\", stds)\n"
   ]
  },
  {
   "cell_type": "markdown",
   "metadata": {},
   "source": [
    "## References\n",
    "* Scikit-learn, Naive Bayes, http://scikit-learn.org/stable/modules/naive_bayes.html (30/10/2017)\n",
    "* Machine Learing Mastery, https://machinelearningmastery.com/naive-bayes-for-machine-learning/ (30/10/2017)"
   ]
  }
 ],
 "metadata": {
  "kernelspec": {
   "display_name": "Python 3",
   "language": "python",
   "name": "python3"
  },
  "language_info": {
   "codemirror_mode": {
    "name": "ipython",
    "version": 3
   },
   "file_extension": ".py",
   "mimetype": "text/x-python",
   "name": "python",
   "nbconvert_exporter": "python",
   "pygments_lexer": "ipython3",
   "version": "3.6.2"
  }
 },
 "nbformat": 4,
 "nbformat_minor": 2
}
